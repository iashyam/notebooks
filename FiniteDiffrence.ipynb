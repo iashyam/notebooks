{
  "nbformat": 4,
  "nbformat_minor": 0,
  "metadata": {
    "kernelspec": {
      "display_name": "Python 3",
      "language": "python",
      "name": "python3"
    },
    "language_info": {
      "codemirror_mode": {
        "name": "ipython",
        "version": 3
      },
      "file_extension": ".py",
      "mimetype": "text/x-python",
      "name": "python",
      "nbconvert_exporter": "python",
      "pygments_lexer": "ipython3",
      "version": "3.8.6"
    },
    "colab": {
      "name": "FiniteDiffrence.ipynb",
      "provenance": [],
      "include_colab_link": true
    }
  },
  "cells": [
    {
      "cell_type": "markdown",
      "metadata": {
        "id": "view-in-github",
        "colab_type": "text"
      },
      "source": [
        "<a href=\"https://colab.research.google.com/github/iashyam/Mp3/blob/main/FiniteDiffrence.ipynb\" target=\"_parent\"><img src=\"https://colab.research.google.com/assets/colab-badge.svg\" alt=\"Open In Colab\"/></a>"
      ]
    },
    {
      "cell_type": "markdown",
      "metadata": {
        "id": "-YNLnCkcQJWE"
      },
      "source": [
        "## Shyam Sunder"
      ]
    },
    {
      "cell_type": "code",
      "metadata": {
        "id": "bPD6l2pqQJWI"
      },
      "source": [
        "import numpy as np\n",
        "import matplotlib.pyplot as plt\n",
        "import math\n",
        "from scipy.sparse import diags"
      ],
      "execution_count": null,
      "outputs": []
    },
    {
      "cell_type": "markdown",
      "metadata": {
        "id": "V0Z9NV1hQJWK"
      },
      "source": [
        "Let $y = y(x)$ be a function of x. \n",
        "<br>\n",
        "Then we know from taylor's series: \n",
        "<br>\n",
        "<br>\n",
        "\\begin{equation}\n",
        "y(x+h) = y(x) + hy'(x) + h^2y''(x) + \\cdots \\\\\n",
        "y(x-h) = y(x) - hy'(x) + h^2y''(x) - \\cdots\n",
        "\\end{equation}\n",
        "\n",
        "Substracting these two we get:\n",
        "$$y(x+h)-y(x-h)=2hy'(x) + \\mathcal{O}(h^3)$$\n",
        "$$y'(x) = \\frac{y(x+h)-y(x-h)}{2h} + \\mathcal{O}(h^3)$$\n",
        "\n",
        ">This is called **Central Difference Formula for diffrentiation.**\n",
        "\n",
        "By adding these two, we get\n",
        "$$y\"(x) = \\frac{y(x+h)+y(x-h)-2y(x)}{h^2} + \\mathcal{O}(h^4)$$\n",
        "<br>\n",
        "In context of any diffrential equation, We are given boundries $x_0$ to $X_n$. <br> So we can simply devide it into N equal parts deffering by h. Let $x_i = x_0 + ih$ represent a point in this intevel. So $y_i = y(x_i)$. We can write the equation <br> <br>\n",
        "$$y\"(x) = \\frac{y_{i+1} + y_{i-1} - 2y_{i}}{h^2}$$\\\n",
        "and also \n",
        "$$y'(x) = \\frac{y_{i+1}-y_i}{h}$$"
      ]
    },
    {
      "cell_type": "markdown",
      "metadata": {
        "id": "m0_YsL4AQJWK"
      },
      "source": [
        "We want to solve the boundry value problem\n",
        "\n",
        "$$\\frac{d^2 y}{dx^2} -\\frac{dy}{dx} - 2y = cos(x)$$\n",
        "\n",
        "\n",
        "$$y(0) = -0.3 \\quad y(\\pi/2)= -0.1$$\n",
        "\n",
        "\n",
        "$$0 \\leq x \\leq \\frac{\\pi}{2} $$\n",
        "We can break the interval $[0, \\frac{\\pi}{2}]$ into $n$ parts and label them with is where\n",
        "$x_i = 0 + ih$ and $h$ is the diffrence bewteen two terms."
      ]
    },
    {
      "cell_type": "markdown",
      "metadata": {
        "id": "MctHKUj5QJWL"
      },
      "source": [
        "We can write the \\autoref{pro} as\n",
        "$$y\" - y' - 2y = \\cos(x)$$\n",
        "When we apply the finite diffrence method we get\n",
        "\\begin{equation*}\n",
        "    \\frac{y_{i+1} + y_{i-1} - 2y_{i}}{h^2} -  \\frac{y_{i+1}-y_i}{h} - 2y_i = \\cos(x_i)\n",
        "\\end{equation*}"
      ]
    },
    {
      "cell_type": "markdown",
      "metadata": {
        "id": "0Rh_u4COQJWL"
      },
      "source": [
        "Now we will put some values of i\n",
        "$$y_0 = -0.3 \\quad \\quad i =0 $$\n",
        "$$ \\frac{1}{h^2}\\left( 1.y_{0} + (-2h^2+h-2)y_1 + (1-h)y_{2}\\right)  = \\cos(x_1) \\quad i = 1$$\n",
        "$$ \\frac{1}{h^2}\\left( 1.y_{1} + (-2h^2+h-2)y_2 + (1-h)y_{3}\\right)  = \\cos(x_2) \\quad i = 2$$\n",
        "    \\vdots \n",
        "$$ \\frac{1}{h^2}\\left( 1.y_{i-1} + (-2h^2+h-2)y_{i} + (1-h)y_{i+1}\\right)  = \\cos(x_i) \\quad i = i$$\n",
        "    \\vdots\n",
        "$$ \\frac{1}{h^2}\\left( 1.y_{n-2} + (-2h^2+h-2)y_{n-1} + (1-h)y_{n}\\right)  = \\cos(x_{n-1}) \\quad i = n-1$$\n",
        "$$y_n = -0.1$$\n",
        "\n",
        "We can Represent this in the Matrix forms as"
      ]
    },
    {
      "cell_type": "markdown",
      "metadata": {
        "id": "4RriQBQsQJWM"
      },
      "source": [
        "\\begin{equation}\n",
        "    \\frac{1}{h^2}\n",
        "    \\begin{bmatrix}\n",
        "        h^2 & 0 & 0 & \\cdots & 0 & 0 \\\\\n",
        "        1 & -2+h-2h^2 & 1-h  &\\cdots & 0 & 0 \\\\\n",
        "        0 & 1 &  -2+h-2h^2   &\\cdots & 0 & 0 \\\\\n",
        "        \\vdots & \\vdots & & & & \\vdots \\\\\n",
        "        0 & 0 & 0 & \\cdots & -2+h-2h^2 & 1-h \\\\\n",
        "        0 & 0 & 0 & \\cdots & 0 & h^2 \n",
        "    \\end{bmatrix}\n",
        "    \\begin{bmatrix}\n",
        "        y_0 \\\\\n",
        "        y_1 \\\\\n",
        "        y_2 \\\\ \n",
        "        \\vdots \\\\\n",
        "        y_{n-1} \\\\\n",
        "        y_n\n",
        "    \\end{bmatrix} =\n",
        "    \\begin{bmatrix}\n",
        "        -0.3 \\\\\n",
        "        cos(x_1) \\\\\n",
        "        cos(x_2) \\\\\n",
        "        \\vdots \\\\\n",
        "        cos(x_{n-1}) \\\\\n",
        "        -0.1\n",
        "    \\end{bmatrix}\n",
        "\\end{equation}"
      ]
    },
    {
      "cell_type": "markdown",
      "metadata": {
        "id": "3vRUZzfYQJWN"
      },
      "source": [
        "\\begin{equation}\n",
        "    MY = b\n",
        "\\end{equation}"
      ]
    },
    {
      "cell_type": "code",
      "metadata": {
        "id": "cvaVyJCrQJWO"
      },
      "source": [
        "pi = math.pi\n",
        "xs = np.linspace(0, math.pi/2,100)\n",
        "h = np.diff(xs)[0] #size of each step\n",
        "N = xs.size #number of steps"
      ],
      "execution_count": null,
      "outputs": []
    },
    {
      "cell_type": "markdown",
      "metadata": {
        "id": "cXKjF2j_QJWP"
      },
      "source": [
        "To desging the M matrix we would take a different approach. I will design the diagoals of the matrix sperately and then I will put them into a empty matrix using diag. "
      ]
    },
    {
      "cell_type": "code",
      "metadata": {
        "id": "PAAzVVCcQJWP"
      },
      "source": [
        "#desging the diagonals of the matrix\n",
        "d1 = np.ones(N-1)\n",
        "d0 = (-2+h-2*h**2)*np.ones(N)\n",
        "d3 = (1-h)*np.ones(N-1)\n",
        "\n",
        "# d1 = np.ones(N-1)\n",
        "# d0 = -2*np.ones(N)\n",
        "# d3 = d1\n",
        "\n",
        "#Putting the dignoals into a empty matrix\n",
        "M = diags([d1,d0,d3],[-1,0,1]).toarray()\n",
        "\n",
        "#multiplying by 1/h^2 fector\n",
        "M = (1/h**2)*M\n",
        "\n",
        "#putting in the boundry Coditions\n",
        "M[0][0]=1\n",
        "M[0][1]=0\n",
        "M[-1][-1]=1\n",
        "M[-1][-2] = 0"
      ],
      "execution_count": null,
      "outputs": []
    },
    {
      "cell_type": "code",
      "metadata": {
        "id": "deh5pkwQQJWP"
      },
      "source": [
        "#desing the left matrix\n",
        "b = np.zeros(N)\n",
        "for i in range(len(b)):\n",
        "    b[i] = math.cos(xs[i])\n",
        "b[0]=-0.3\n",
        "b[-1]=-0.1"
      ],
      "execution_count": null,
      "outputs": []
    },
    {
      "cell_type": "markdown",
      "metadata": {
        "id": "QLk-kxz7QJWQ"
      },
      "source": [
        "We will use the gaussian elimination method to solve the equation"
      ]
    },
    {
      "cell_type": "code",
      "metadata": {
        "id": "d_Wiep8hQJWQ"
      },
      "source": [
        "def gaussianElimination(A, B):\n",
        "    n = len(A)\n",
        "    A = np.c_[A, B]\n",
        "    \n",
        "    #getting echilion matrix:\n",
        "    for i in range(n):\n",
        "        for j in range(i+1,n):\n",
        "            fector = A[j][i]/A[i][i]\n",
        "            for k in range(i, n+1):\n",
        "                A[j][k] -= A[i][k]*fector\n",
        "\n",
        "    c = [0 for _ in B]        \n",
        "    #backSubstitution\n",
        "    string = ''\n",
        "    for i in range(n-1,-1,-1):\n",
        "        sum = 0\n",
        "        for j in range(i,n):\n",
        "            sum += A[i][j]*c[j]\n",
        "        c[i] = (A[i][-1] -sum)/A[i][i]\n",
        "        \n",
        "    return c"
      ],
      "execution_count": null,
      "outputs": []
    },
    {
      "cell_type": "code",
      "metadata": {
        "id": "8gHm1yL8QJWQ"
      },
      "source": [
        "ys = gaussianElimination(M,b)"
      ],
      "execution_count": null,
      "outputs": []
    },
    {
      "cell_type": "code",
      "metadata": {
        "scrolled": true,
        "colab": {
          "base_uri": "https://localhost:8080/",
          "height": 265
        },
        "id": "dmhNG1KrQJWQ",
        "outputId": "56ef47ee-7ab3-4f43-873d-3c44c0168368"
      },
      "source": [
        "plt.plot(xs, ys, label='From fintie Difference Method')\n",
        "plt.plot((0,pi/2),(-.3,-.1), '*')\n",
        "plt.legend()\n",
        "plt.show()"
      ],
      "execution_count": null,
      "outputs": [
        {
          "output_type": "display_data",
          "data": {
            "image/png": "[encoded data removed]",
            "text/plain": [
              "<Figure size 432x288 with 1 Axes>"
            ]
          },
          "metadata": {
            "needs_background": "light"
          }
        }
      ]
    },
    {
      "cell_type": "markdown",
      "metadata": {
        "id": "dSjpXsLUQJWR"
      },
      "source": [
        "The Theoritical solution for this problem is:\n",
        "$$y(x) = \\frac{1}{10}(-sin(x)-3(cos(x))$$"
      ]
    },
    {
      "cell_type": "code",
      "metadata": {
        "id": "RrhUJzJ1QJWR"
      },
      "source": [
        "def theory(x):\n",
        "    return (1/10)*(-math.sin(x)-3*math.cos(x))"
      ],
      "execution_count": null,
      "outputs": []
    },
    {
      "cell_type": "code",
      "metadata": {
        "id": "P7LFHl5sQJWR"
      },
      "source": [
        "y_th = [theory(x) for x in xs]"
      ],
      "execution_count": null,
      "outputs": []
    },
    {
      "cell_type": "code",
      "metadata": {
        "colab": {
          "base_uri": "https://localhost:8080/",
          "height": 265
        },
        "id": "25fv8sCoQJWS",
        "outputId": "7f5dbf72-554d-42db-a6a8-4f391c02395f"
      },
      "source": [
        "plt.plot(xs, ys, label='From fintie Difference Method')\n",
        "plt.plot(xs, y_th, label='From Theory')\n",
        "plt.plot((0,pi/2),(-.3,-.1), '*')\n",
        "plt.legend()\n",
        "plt.show()"
      ],
      "execution_count": null,
      "outputs": [
        {
          "output_type": "display_data",
          "data": {
            "image/png": "[encoded data removed]",
            "text/plain": [
              "<Figure size 432x288 with 1 Axes>"
            ]
          },
          "metadata": {
            "needs_background": "light"
          }
        }
      ]
    },
    {
      "cell_type": "markdown",
      "metadata": {
        "id": "4vYXa5otQJWS"
      },
      "source": [
        "## So as we can see that our solution exactly matches with the theorictical value"
      ]
    },
    {
      "cell_type": "code",
      "metadata": {
        "id": "cMqDvOQBUAlo"
      },
      "source": [
        ""
      ],
      "execution_count": null,
      "outputs": []
    }
  ]
}